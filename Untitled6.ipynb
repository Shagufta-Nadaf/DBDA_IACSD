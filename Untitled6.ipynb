{
  "nbformat": 4,
  "nbformat_minor": 0,
  "metadata": {
    "colab": {
      "provenance": [],
      "authorship_tag": "ABX9TyMkfpV9TMNdt4G+6FEIzpxj",
      "include_colab_link": true
    },
    "kernelspec": {
      "name": "python3",
      "display_name": "Python 3"
    },
    "language_info": {
      "name": "python"
    }
  },
  "cells": [
    {
      "cell_type": "markdown",
      "metadata": {
        "id": "view-in-github",
        "colab_type": "text"
      },
      "source": [
        "<a href=\"https://colab.research.google.com/github/Shagufta-Nadaf/DBDA_IACSD/blob/main/Untitled6.ipynb\" target=\"_parent\"><img src=\"https://colab.research.google.com/assets/colab-badge.svg\" alt=\"Open In Colab\"/></a>"
      ]
    },
    {
      "cell_type": "code",
      "execution_count": 2,
      "metadata": {
        "colab": {
          "base_uri": "https://localhost:8080/"
        },
        "id": "mkZ6IVNoLOkT",
        "outputId": "1bba5ec3-5409-4548-fe0d-89373783ee22"
      },
      "outputs": [
        {
          "output_type": "stream",
          "name": "stdout",
          "text": [
            "Select operation:\n",
            "1. Add\n",
            "2. Subtract\n",
            "3. Multiply\n",
            "4. Divide\n",
            "Enter choice (1/2/3/4): 1\n",
            "Enter first number: 3\n",
            "Enter second number: 5\n",
            "Result: 8.0\n"
          ]
        }
      ],
      "source": [
        "#Simple Calculator Program\n",
        "print(\"Select operation:\")\n",
        "print(\"1. Add\")\n",
        "print(\"2. Subtract\")\n",
        "print(\"3. Multiply\")\n",
        "print(\"4. Divide\")\n",
        "while True:\n",
        "    choice = input(\"Enter choice (1/2/3/4): \")\n",
        "    if choice in ('1', '2', '3', '4'):\n",
        "        num1 = float(input(\"Enter first number: \"))\n",
        "        num2 = float(input(\"Enter second number: \"))\n",
        "        if choice == '1':\n",
        "            print(\"Result:\",num1+num2)\n",
        "        elif choice == '2':\n",
        "            print(\"Result:\", num1-num2)\n",
        "        elif choice == '3':\n",
        "            print(\"Result:\", num1*num2)\n",
        "        elif choice == '4':\n",
        "            def divide(x, y):\n",
        "              if y != 0:\n",
        "                  print(num1 / num2)\n",
        "              else:\n",
        "                  print(\"Error: Division by zero\")\n",
        "        break\n",
        "    else:\n",
        "        print(\"Invalid Input\")"
      ]
    },
    {
      "cell_type": "code",
      "source": [
        "#WAP to print the odd numbers from 1 to 99. Prints one number per line.\n",
        "\n",
        "for i in range(1, 101, 2):\n",
        "    print(i)"
      ],
      "metadata": {
        "colab": {
          "base_uri": "https://localhost:8080/"
        },
        "id": "BXu9twMENfHw",
        "outputId": "f469c8f1-e42f-49c7-ef32-21c327d8a633"
      },
      "execution_count": 5,
      "outputs": [
        {
          "output_type": "stream",
          "name": "stdout",
          "text": [
            "1\n",
            "3\n",
            "5\n",
            "7\n",
            "9\n",
            "11\n",
            "13\n",
            "15\n",
            "17\n",
            "19\n",
            "21\n",
            "23\n",
            "25\n",
            "27\n",
            "29\n",
            "31\n",
            "33\n",
            "35\n",
            "37\n",
            "39\n",
            "41\n",
            "43\n",
            "45\n",
            "47\n",
            "49\n",
            "51\n",
            "53\n",
            "55\n",
            "57\n",
            "59\n",
            "61\n",
            "63\n",
            "65\n",
            "67\n",
            "69\n",
            "71\n",
            "73\n",
            "75\n",
            "77\n",
            "79\n",
            "81\n",
            "83\n",
            "85\n",
            "87\n",
            "89\n",
            "91\n",
            "93\n",
            "95\n",
            "97\n",
            "99\n"
          ]
        }
      ]
    },
    {
      "cell_type": "code",
      "source": [
        "'''WAP  to accept a number and check the number is even or not. Prints 1 if the number is even or 0 if the number is odd.\n",
        "'''\n",
        "\n",
        "num=int(input(\"Enter a number:::\"))\n",
        "if(num % 2==0):\n",
        "  print(\"1\")\n",
        "else:\n",
        "  print(\"0\")"
      ],
      "metadata": {
        "colab": {
          "base_uri": "https://localhost:8080/"
        },
        "id": "HDrA4hZXOI3c",
        "outputId": "b6e79a1d-b4a0-47b2-ae2f-670def1b1064"
      },
      "execution_count": 9,
      "outputs": [
        {
          "output_type": "stream",
          "name": "stdout",
          "text": [
            "Enter a number:::-2\n",
            "1\n"
          ]
        }
      ]
    },
    {
      "cell_type": "code",
      "source": [
        "'''WAP to print numbers between 1 to 100 which are divisible by 3, 5 and by both\n",
        "( total 3 list of numbers to be printed)\n",
        "'''\n",
        "for i in range(1,101):\n",
        "  if(i%5==0 and i%3==0):\n",
        "    print(i,\"Divisible by both\")\n",
        "  elif(i%5==0):\n",
        "    print(i,\"Divisible by 5\")\n",
        "  elif(i%3==0):\n",
        "    print(i,\"divisible by 3\")\n",
        "  else:\n",
        "    print(i,\"NOt divisible\")"
      ],
      "metadata": {
        "colab": {
          "base_uri": "https://localhost:8080/"
        },
        "id": "maau-AAaOe9_",
        "outputId": "a3395209-189a-4079-eb9d-58ff37531a40"
      },
      "execution_count": 14,
      "outputs": [
        {
          "output_type": "stream",
          "name": "stdout",
          "text": [
            "1 NOt divisible\n",
            "2 NOt divisible\n",
            "3 divisible by 3\n",
            "4 NOt divisible\n",
            "5 Divisible by 5\n",
            "6 divisible by 3\n",
            "7 NOt divisible\n",
            "8 NOt divisible\n",
            "9 divisible by 3\n",
            "10 Divisible by 5\n",
            "11 NOt divisible\n",
            "12 divisible by 3\n",
            "13 NOt divisible\n",
            "14 NOt divisible\n",
            "15 Divisible by both\n",
            "16 NOt divisible\n",
            "17 NOt divisible\n",
            "18 divisible by 3\n",
            "19 NOt divisible\n",
            "20 Divisible by 5\n",
            "21 divisible by 3\n",
            "22 NOt divisible\n",
            "23 NOt divisible\n",
            "24 divisible by 3\n",
            "25 Divisible by 5\n",
            "26 NOt divisible\n",
            "27 divisible by 3\n",
            "28 NOt divisible\n",
            "29 NOt divisible\n",
            "30 Divisible by both\n",
            "31 NOt divisible\n",
            "32 NOt divisible\n",
            "33 divisible by 3\n",
            "34 NOt divisible\n",
            "35 Divisible by 5\n",
            "36 divisible by 3\n",
            "37 NOt divisible\n",
            "38 NOt divisible\n",
            "39 divisible by 3\n",
            "40 Divisible by 5\n",
            "41 NOt divisible\n",
            "42 divisible by 3\n",
            "43 NOt divisible\n",
            "44 NOt divisible\n",
            "45 Divisible by both\n",
            "46 NOt divisible\n",
            "47 NOt divisible\n",
            "48 divisible by 3\n",
            "49 NOt divisible\n",
            "50 Divisible by 5\n",
            "51 divisible by 3\n",
            "52 NOt divisible\n",
            "53 NOt divisible\n",
            "54 divisible by 3\n",
            "55 Divisible by 5\n",
            "56 NOt divisible\n",
            "57 divisible by 3\n",
            "58 NOt divisible\n",
            "59 NOt divisible\n",
            "60 Divisible by both\n",
            "61 NOt divisible\n",
            "62 NOt divisible\n",
            "63 divisible by 3\n",
            "64 NOt divisible\n",
            "65 Divisible by 5\n",
            "66 divisible by 3\n",
            "67 NOt divisible\n",
            "68 NOt divisible\n",
            "69 divisible by 3\n",
            "70 Divisible by 5\n",
            "71 NOt divisible\n",
            "72 divisible by 3\n",
            "73 NOt divisible\n",
            "74 NOt divisible\n",
            "75 Divisible by both\n",
            "76 NOt divisible\n",
            "77 NOt divisible\n",
            "78 divisible by 3\n",
            "79 NOt divisible\n",
            "80 Divisible by 5\n",
            "81 divisible by 3\n",
            "82 NOt divisible\n",
            "83 NOt divisible\n",
            "84 divisible by 3\n",
            "85 Divisible by 5\n",
            "86 NOt divisible\n",
            "87 divisible by 3\n",
            "88 NOt divisible\n",
            "89 NOt divisible\n",
            "90 Divisible by both\n",
            "91 NOt divisible\n",
            "92 NOt divisible\n",
            "93 divisible by 3\n",
            "94 NOt divisible\n",
            "95 Divisible by 5\n",
            "96 divisible by 3\n",
            "97 NOt divisible\n",
            "98 NOt divisible\n",
            "99 divisible by 3\n",
            "100 Divisible by 5\n"
          ]
        }
      ]
    }
  ]
}